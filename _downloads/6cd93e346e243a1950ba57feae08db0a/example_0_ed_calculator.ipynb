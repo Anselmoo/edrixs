{
  "cells": [
    {
      "cell_type": "code",
      "execution_count": null,
      "metadata": {
        "collapsed": false
      },
      "outputs": [],
      "source": [
        "%matplotlib inline"
      ]
    },
    {
      "cell_type": "markdown",
      "metadata": {},
      "source": [
        "\nExact diagonalization\n=====================================\nHere we show how to find the eigenvalues and eigenvectors of a many-body\nHamiltonian of fermions with Coulomb interactions. We then determine their spin\nand orbital angular momentum and how this changes when we switch on spin-orbit\ncoupling.\n\n"
      ]
    },
    {
      "cell_type": "markdown",
      "metadata": {},
      "source": [
        "Import the necessary modules.\n\n"
      ]
    },
    {
      "cell_type": "code",
      "execution_count": null,
      "metadata": {
        "collapsed": false
      },
      "outputs": [],
      "source": [
        "import numpy as np\nimport scipy\nimport edrixs"
      ]
    },
    {
      "cell_type": "markdown",
      "metadata": {},
      "source": [
        "Parameters\n------------------------------------------------------------------------------\nDefine the orbital angular momentum number $l=1$ (i.e. a `p` shell),\nthe number of orbitals, the orbital occupancy and the Slater integrals.\n$F^{k}$ with $k=0,2$:\n\n"
      ]
    },
    {
      "cell_type": "code",
      "execution_count": null,
      "metadata": {
        "collapsed": false
      },
      "outputs": [],
      "source": [
        "l = 1\nnorb = 6\nnoccu = 2\nF0, F2 = 4.0, 1.0"
      ]
    },
    {
      "cell_type": "markdown",
      "metadata": {},
      "source": [
        "Coulomb interactions\n------------------------------------------------------------------------------\nThe Coulomb interactions enter the Hamiltonain as\n\n   .. math::\n       \\begin{equation*}\n       \\hat{H} = \\sum_{i, j, t, u}\n       U_{m_{l_i}m_{s_i}, m_{l_j}m_{s_j}, m_{l_t}m_{s_t},\n       m_{l_u}m_{s_u}}^{i,j,t,u}\n       \\end{equation*}\n\nwhich is parameterized by tensor\n\n   .. math::\n       \\begin{gather*}\n       U_{m_{l_i}m_{s_i}, m_{l_j}m_{s_j}, m_{l_t}m_{s_t},\n       m_{l_u}m_{s_u}}^{i,j,t,u}\n       = \\\\ \\frac{1}{2} \\delta_{m_{s_i},m_{s_t}}\\delta_{m_{s_j},m_{s_u}}\n       \\delta_{m_{l_i}+m_{l_j}, m_{l_t}+m_{l_u}}\n       \\sum_{k}C_{l_i,l_t}(k,m_{l_i},m_{l_t})C_{l_u,l_j}\n       (k,m_{l_u},m_{l_j})F^{k}_{i,j,t,u}\n       \\end{gather*}\n\nwhere $m_s$ is the magnetic quantum number for spin\nand $m_l$ is the quantum number for orbitals.\n$F^{k}_{i,j,t,u}$ are Slater integrals.\n$C_{l_i,l_j}(k,m_{l_i},m_{l_j})$ are Gaunt coefficients. We can\nconstruct the matrix via\n\n"
      ]
    },
    {
      "cell_type": "code",
      "execution_count": null,
      "metadata": {
        "collapsed": false
      },
      "outputs": [],
      "source": [
        "umat = edrixs.get_umat_slater('p', F0, F2)"
      ]
    },
    {
      "cell_type": "markdown",
      "metadata": {},
      "source": [
        "Create basis\n------------------------------------------------------------------------------\nNow we build the binary form of the Fock basis $|F>$ (we consider it\npreferable to use the standard $F$ and trust the reader to avoid confusing\nit with the Slater parameters.)\nThe Fock basis is the simplest legitimate form for the basis and it consists\nof a series of 1s and 0s where 1 means occupied and\n0 means  empty.\n\n"
      ]
    },
    {
      "cell_type": "code",
      "execution_count": null,
      "metadata": {
        "collapsed": false
      },
      "outputs": [],
      "source": [
        "basis = edrixs.get_fock_bin_by_N(norb, noccu)\nprint(np.array(basis))"
      ]
    },
    {
      "cell_type": "markdown",
      "metadata": {},
      "source": [
        "Note that in more complicated problems with both valence and core\nelectrons, the edrixs convention is to list the valence electrons first.\n\n"
      ]
    },
    {
      "cell_type": "markdown",
      "metadata": {},
      "source": [
        "Transform interactions into Fock basis\n------------------------------------------------------------------------------\nedrixs works by creating a Hamiltonian matrix $\\hat{H}$ transformed into\nthis Fock basis. These are four fermion interactions with this form\n\n    .. math::\n       \\hat{H} = <F_l|\\sum_{ij}U_{ijkl}\\hat{f}_{i}^{\\dagger}\\hat{f}_{j}^{\\dagger}\n        \\hat{f}_{k}\\hat{f}_{l}|F_r>\n\ngenerated as\n\n"
      ]
    },
    {
      "cell_type": "code",
      "execution_count": null,
      "metadata": {
        "collapsed": false
      },
      "outputs": [],
      "source": [
        "n_fermion = 4\nH = edrixs.build_opers(n_fermion, umat, basis)"
      ]
    },
    {
      "cell_type": "markdown",
      "metadata": {},
      "source": [
        "We needed to specify :code:`n_fermion = 4` because the\n:code:`edrixs.build_opers` function can also make two fermion terms.\n\n"
      ]
    },
    {
      "cell_type": "markdown",
      "metadata": {},
      "source": [
        "Diagonalize the matrix\n------------------------------------------------------------------------------\nFor a small problem such as this it is convenient to use the native\n`scipy <https://scipy.org>`_ diagonalization routine. This returns eigenvalues\n:code:`e` and eignvectors :code:`v` where eigenvalue :code:`e[i]` corresponds\nto eigenvector :code:v[:,i].\n\n"
      ]
    },
    {
      "cell_type": "code",
      "execution_count": null,
      "metadata": {
        "collapsed": false
      },
      "outputs": [],
      "source": [
        "e, v = scipy.linalg.eigh(H)\nprint(\"{} eignvalues and {} eigvenvectors {} elements long.\".format(len(e),\n                                                                    v.shape[1],\n                                                                    v.shape[0]))"
      ]
    },
    {
      "cell_type": "markdown",
      "metadata": {},
      "source": [
        "Computing expectation values\n------------------------------------------------------------------------------\nTo interpret the results, it is informative to compute the expectations values\nof the spin $S^2$, orbital $L^2$,\nand total $J^2$, angular momentum. We first load the relevant matrices\nfor these quantities for a `p` atomic shell.  We need to specifiy that we'd\nlike to include spin when loading the obital operator.\n\n"
      ]
    },
    {
      "cell_type": "code",
      "execution_count": null,
      "metadata": {
        "collapsed": false
      },
      "outputs": [],
      "source": [
        "orb_mom = edrixs.get_orb_momentum(l, ispin=True)\nspin_mom = edrixs.get_spin_momentum(l)\ntot_mom = orb_mom + spin_mom"
      ]
    },
    {
      "cell_type": "markdown",
      "metadata": {},
      "source": [
        "We again transform these matrices to our Fock basis to build the operators\n\n"
      ]
    },
    {
      "cell_type": "code",
      "execution_count": null,
      "metadata": {
        "collapsed": false
      },
      "outputs": [],
      "source": [
        "n_fermion = 2\nopL, opS, opJ = edrixs.build_opers(n_fermion, [orb_mom, spin_mom, tot_mom], basis)"
      ]
    },
    {
      "cell_type": "markdown",
      "metadata": {},
      "source": [
        "The squares are computed as\n\n    .. math::\n       S^2 = S^2_x + S^2_y + S^2_z\\\\\n       L^2 = L^2_x + L^2_y + L^2_z\\\\\n       J^2 = J^2_x + J^2_y + J^2_z\n\n\n"
      ]
    },
    {
      "cell_type": "code",
      "execution_count": null,
      "metadata": {
        "collapsed": false
      },
      "outputs": [],
      "source": [
        "L2 = np.dot(opL[0], opL[0]) + np.dot(opL[1], opL[1]) + np.dot(opL[2], opL[2])\nS2 = np.dot(opS[0], opS[0]) + np.dot(opS[1], opS[1]) + np.dot(opS[2], opS[2])\nJ2 = np.dot(opJ[0], opJ[0]) + np.dot(opJ[1], opJ[1]) + np.dot(opJ[2], opJ[2])"
      ]
    },
    {
      "cell_type": "markdown",
      "metadata": {},
      "source": [
        "We can print out the values as follows\n\n"
      ]
    },
    {
      "cell_type": "code",
      "execution_count": null,
      "metadata": {
        "collapsed": false
      },
      "outputs": [],
      "source": [
        "L2_val = edrixs.cb_op(L2, v).diagonal().real\nS2_val = edrixs.cb_op(S2, v).diagonal().real\nJ2_val = edrixs.cb_op(J2, v).diagonal().real\nprint(\"{:<3s}\\t{:>8s}\\t{:>8s}\\t{:>8s}\".format(\"#  \", \"E  \", \"S(S+1)\", \"L(L+1)\"))\nfor i, eigenvalue in enumerate(e):\n    values_list = [i, eigenvalue, S2_val[i], L2_val[i]]\n    print(\"{:<3d}\\t{:8.3f}\\t{:8.3f}\\t{:8.3f}\".format(*values_list))"
      ]
    },
    {
      "cell_type": "markdown",
      "metadata": {},
      "source": [
        "We see `S=0` and `S=1` states and similary `L=0` and `L=1`. The high-spin\nstates have lower energy in accordance with Hund's rules.\n\n"
      ]
    },
    {
      "cell_type": "markdown",
      "metadata": {},
      "source": [
        "Spin orbit coupling\n------------------------------------------------------------------------------\nFor fun, we can see how this changes when we add spin orbit coupling (SOC).\nThis is a two-fermion operator that we create, transform into the Fock basis\nand add to the prior Hamiltonain.\n\n"
      ]
    },
    {
      "cell_type": "code",
      "execution_count": null,
      "metadata": {
        "collapsed": false
      },
      "outputs": [],
      "source": [
        "soc = edrixs.atom_hsoc('p', 0.2)\nn_fermion = 2\nH2 = H + edrixs.build_opers(n_fermion, soc, basis)"
      ]
    },
    {
      "cell_type": "markdown",
      "metadata": {},
      "source": [
        "Then, we redo the diagonalization and print the results.\n\n"
      ]
    },
    {
      "cell_type": "code",
      "execution_count": null,
      "metadata": {
        "collapsed": false
      },
      "outputs": [],
      "source": [
        "e2, v2 = scipy.linalg.eigh(H2)\nprint(\"With SOC\")\nprint(\"{:<3s}\\t{:>8s}\\t{:>8s}\\t{:>8s}\\t{:>8s}\".format(\"#\", \"E\", \"S(S+1)\", \"L(L+1)\", \"J(J+1)\"))\nJ2_val_soc = edrixs.cb_op(J2, v2).diagonal().real\nL2_val_soc = edrixs.cb_op(L2, v2).diagonal().real\nS2_val_soc = edrixs.cb_op(S2, v2).diagonal().real\nfor i, eigenvalue in enumerate(e2):\n    values_list = [i, eigenvalue, S2_val_soc[i], L2_val_soc[i], J2_val_soc[i]]\n    print(\"{:<3d}\\t{:8.3f}\\t{:8.3f}\\t{:8.3f}\\t{:8.3f}\".format(*values_list))"
      ]
    },
    {
      "cell_type": "markdown",
      "metadata": {},
      "source": [
        "Quantum number `J` now has values from 0, 1, 2 and since the shell is less\nthan half full, Hund's rules dictate that the minimum `J` has the lowest\nenergy.\n\n"
      ]
    },
    {
      "cell_type": "code",
      "execution_count": null,
      "metadata": {
        "collapsed": false
      },
      "outputs": [],
      "source": [
        "#  show a nice image for the index\n# sphinx_gallery_thumbnail_path = '_static/calculator.jpg'"
      ]
    }
  ],
  "metadata": {
    "kernelspec": {
      "display_name": "Python 3",
      "language": "python",
      "name": "python3"
    },
    "language_info": {
      "codemirror_mode": {
        "name": "ipython",
        "version": 3
      },
      "file_extension": ".py",
      "mimetype": "text/x-python",
      "name": "python",
      "nbconvert_exporter": "python",
      "pygments_lexer": "ipython3",
      "version": "3.6.7"
    }
  },
  "nbformat": 4,
  "nbformat_minor": 0
}